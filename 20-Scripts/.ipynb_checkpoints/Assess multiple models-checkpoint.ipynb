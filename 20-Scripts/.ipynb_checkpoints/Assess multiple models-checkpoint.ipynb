{
 "cells": [
  {
   "cell_type": "code",
   "execution_count": 33,
   "metadata": {},
   "outputs": [],
   "source": [
    "import pandas as pd\n",
    "import numpy as np\n",
    "import matplotlib.pyplot as plt\n",
    "import warnings\n",
    "warnings.filterwarnings('ignore')\n",
    "\n",
    "from sklearn.model_selection import train_test_split\n",
    "from sklearn.preprocessing import StandardScaler\n",
    "from sklearn.pipeline import Pipeline\n",
    "\n",
    "from sklearn.linear_model import LogisticRegression\n",
    "from sklearn.ensemble import RandomForestClassifier\n",
    "\n",
    "from sklearn.metrics import classification_report\n",
    "from sklearn.metrics import precision_recall_curve\n",
    "from yellowbrick.classifier import discrimination_threshold\n",
    "from yellowbrick.classifier import confusion_matrix\n"
   ]
  },
  {
   "cell_type": "code",
   "execution_count": 34,
   "metadata": {},
   "outputs": [],
   "source": [
    "data = pd.read_csv('../10-Data/credit-card-fraud-data.zip')"
   ]
  },
  {
   "cell_type": "code",
   "execution_count": 35,
   "metadata": {},
   "outputs": [],
   "source": [
    "data = data.set_index('Time')"
   ]
  },
  {
   "cell_type": "code",
   "execution_count": 36,
   "metadata": {},
   "outputs": [],
   "source": [
    "data['logAmount'] = np.log1p(data.Amount)\n",
    "data = data.drop(columns={'Amount'})"
   ]
  },
  {
   "cell_type": "code",
   "execution_count": 37,
   "metadata": {},
   "outputs": [],
   "source": [
    "Xtrn, Xtst, ytrn, ytst = train_test_split(data.loc[:,data.columns != 'Class'], \n",
    "                                          data.Class, \n",
    "                                          test_size=0.50, \n",
    "                                          random_state=42)"
   ]
  },
  {
   "cell_type": "code",
   "execution_count": 41,
   "metadata": {},
   "outputs": [],
   "source": [
    "def performance_with_optimal_threshold(model, X = Xtrn, y = ytrn):\n",
    "    \n",
    "    from scipy.stats import hmean\n",
    "    \n",
    "    prob = model.predict_proba(X)[:,1]\n",
    "    precision, recall, thresh = precision_recall_curve(y, prob)\n",
    "    \n",
    "    F = hmean((precision,recall))\n",
    "    max_F = max(F)\n",
    "    threshold = thresh[np.where(F == max_F)][0]\n",
    "    \n",
    "    return((threshold, max_F))\n",
    "    "
   ]
  },
  {
   "cell_type": "code",
   "execution_count": 42,
   "metadata": {},
   "outputs": [],
   "source": [
    "lerners = {'logistic': LogisticRegression(),\n",
    "           'rf': RandomForestClassifier()}\n",
    "\n",
    "results = {}"
   ]
  },
  {
   "cell_type": "code",
   "execution_count": 43,
   "metadata": {},
   "outputs": [
    {
     "name": "stdout",
     "output_type": "stream",
     "text": [
      "logistic\n",
      "rf\n"
     ]
    }
   ],
   "source": [
    "for i, (n, m) in enumerate(lerners.items()):\n",
    "    pipe = Pipeline([('scaler', StandardScaler()),\n",
    "                 ('model', m)])\n",
    "    pipe.fit(Xtrn, ytrn)\n",
    "    threshold, F = performance_with_optimal_threshold(m)\n",
    "    results[n] = {'threshold': threshold,\n",
    "                  'F': F}\n",
    "    print(n)\n",
    "    "
   ]
  },
  {
   "cell_type": "code",
   "execution_count": 44,
   "metadata": {},
   "outputs": [
    {
     "name": "stdout",
     "output_type": "stream",
     "text": [
      "{'logistic': {'threshold': 0.25372937576272014, 'F': 0.775347912524851}, 'rf': {'threshold': 0.5, 'F': 0.8369098712446352}}\n"
     ]
    }
   ],
   "source": [
    "print(results)"
   ]
  },
  {
   "cell_type": "code",
   "execution_count": null,
   "metadata": {},
   "outputs": [],
   "source": [
    "precision_recall_curve?"
   ]
  },
  {
   "cell_type": "code",
   "execution_count": null,
   "metadata": {},
   "outputs": [],
   "source": []
  }
 ],
 "metadata": {
  "kernelspec": {
   "display_name": "Python 3",
   "language": "python",
   "name": "python3"
  },
  "language_info": {
   "codemirror_mode": {
    "name": "ipython",
    "version": 3
   },
   "file_extension": ".py",
   "mimetype": "text/x-python",
   "name": "python",
   "nbconvert_exporter": "python",
   "pygments_lexer": "ipython3",
   "version": "3.7.3"
  }
 },
 "nbformat": 4,
 "nbformat_minor": 2
}
